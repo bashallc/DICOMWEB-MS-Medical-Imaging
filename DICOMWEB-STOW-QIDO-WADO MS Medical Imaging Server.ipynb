{
 "cells": [
  {
   "cell_type": "code",
   "execution_count": 1,
   "metadata": {},
   "outputs": [],
   "source": [
    "#import the modules\n",
    "from dicomweb_client.api import DICOMwebClient\n",
    "import requests, json\n",
    "from dicomweb_client.api import DICOMwebClient\n",
    "from pydicom import dcmread\n",
    "import os\n",
    "import time"
   ]
  },
  {
   "cell_type": "code",
   "execution_count": 2,
   "metadata": {},
   "outputs": [],
   "source": [
    "#build the client with no auth required\n",
    "client = DICOMwebClient(url=\"http://localhost:8080\",headers={\"accept\" : \"application/dicom+json\"})"
   ]
  },
  {
   "cell_type": "code",
   "execution_count": null,
   "metadata": {},
   "outputs": [],
   "source": [
    "# choose some local files\n",
    "mycwd = (os.getcwd())\n",
    "print(mycwd)"
   ]
  },
  {
   "cell_type": "code",
   "execution_count": null,
   "metadata": {},
   "outputs": [],
   "source": [
    "# STOW-RS send some files via stow , time and count\n",
    "\n",
    "count = 0\n",
    "cwd = (os.getcwd())\n",
    "for root, dirs, files in os.walk(os.path.abspath((mycwd+\"/files/\"))):\n",
    "                    start_time = time.time()     \n",
    "                    for file in files:\n",
    "                        count = count + 1\n",
    "                        my_path = (os.path.join(root, file))\n",
    "                        dataset = dcmread(my_path)\n",
    "\n",
    "\n",
    "                        client.store_instances(datasets=[dataset])\n",
    "stop_time = time.time()\n",
    "print(\"--- %s seconds ---\" % (stop_time - start_time))\n",
    "print(count)"
   ]
  },
  {
   "cell_type": "code",
   "execution_count": 4,
   "metadata": {},
   "outputs": [
    {
     "data": {
      "text/plain": [
       "[{'00080020': {'vr': 'DA', 'Value': ['20200922']},\n",
       "  '00080030': {'vr': 'TM', 'Value': ['111500']},\n",
       "  '00080050': {'vr': 'SH', 'Value': ['2020RK0000034-1']},\n",
       "  '00080090': {'vr': 'PN'},\n",
       "  '00100010': {'vr': 'PN', 'Value': [{'Alphabetic': 'FOUR^KARISMA^'}]},\n",
       "  '00100020': {'vr': 'LO', 'Value': ['KRS123']},\n",
       "  '00100030': {'vr': 'DA', 'Value': ['20010101']},\n",
       "  '00100040': {'vr': 'CS'},\n",
       "  '0020000D': {'vr': 'UI',\n",
       "   'Value': ['1.2.840.114202.4.442866660.2623877097.2673491530.2961751760']},\n",
       "  '00200010': {'vr': 'SH'}}]"
      ]
     },
     "execution_count": 4,
     "metadata": {},
     "output_type": "execute_result"
    }
   ],
   "source": [
    "# QIDO-RS\n",
    "\n",
    "studies = client.search_for_studies()\n",
    "studies"
   ]
  },
  {
   "cell_type": "code",
   "execution_count": 6,
   "metadata": {},
   "outputs": [],
   "source": [
    "# WADO-RS (get the first SUID)\n",
    "\n",
    "suid = dict.get(dict.get((studies[0]),'0020000D'),'Value')[0]\n"
   ]
  },
  {
   "cell_type": "code",
   "execution_count": 7,
   "metadata": {},
   "outputs": [
    {
     "name": "stdout",
     "output_type": "stream",
     "text": [
      "1.2.840.114202.4.442866660.2623877097.2673491530.2961751760\n"
     ]
    }
   ],
   "source": [
    "print(suid)\n",
    "#Get instances from a study\n",
    "instances = client.retrieve_study(suid)\n",
    "image_no = 0\n",
    "\n",
    "#write all the images from that study\n",
    "for ds in instances:\n",
    "    image_no += 1\n",
    "    ds.save_as(str(image_no) + '.dcm')\n",
    "    "
   ]
  },
  {
   "cell_type": "code",
   "execution_count": null,
   "metadata": {},
   "outputs": [],
   "source": []
  }
 ],
 "metadata": {
  "kernelspec": {
   "display_name": "Python 3",
   "language": "python",
   "name": "python3"
  },
  "language_info": {
   "codemirror_mode": {
    "name": "ipython",
    "version": 3
   },
   "file_extension": ".py",
   "mimetype": "text/x-python",
   "name": "python",
   "nbconvert_exporter": "python",
   "pygments_lexer": "ipython3",
   "version": "3.7.4"
  }
 },
 "nbformat": 4,
 "nbformat_minor": 2
}
